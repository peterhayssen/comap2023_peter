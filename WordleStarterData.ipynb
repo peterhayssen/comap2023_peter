{
 "cells": [
  {
   "cell_type": "code",
   "execution_count": 46,
   "id": "1f07b9e4",
   "metadata": {},
   "outputs": [],
   "source": [
    "import numpy as np\n",
    "from scipy.io import loadmat\n",
    "import matplotlib.pyplot as plt "
   ]
  },
  {
   "cell_type": "code",
   "execution_count": 47,
   "id": "05c2843e",
   "metadata": {},
   "outputs": [],
   "source": [
    "import csv\n",
    "\n",
    "# Open the CSV file and read its contents\n",
    "with open('Problem_C_Data_Wordle.csv', 'r') as csv_file:\n",
    "    csv_reader = csv.reader(csv_file)\n",
    "\n",
    "    # Create an empty list to store the strings from the first column\n",
    "    word_info = []\n",
    "    word_data = []\n",
    "\n",
    "    # Iterate over each row in the CSV file\n",
    "    for row in csv_reader:\n",
    "        # Putting data into arrays\n",
    "        word_info.append([row[0], row[1], row[2]])\n",
    "        word_data.append([row[3], row[4], row[5], row[6], row[7], row[8], row[9], row[10], row[11]])\n",
    "        "
   ]
  },
  {
   "cell_type": "code",
   "execution_count": 48,
   "id": "a1569ae5",
   "metadata": {},
   "outputs": [],
   "source": [
    "# Data clean up\n",
    "\n",
    "# Fixing a couple words (allowed)\n",
    "word_info[17][2] = 'probe'\n",
    "word_info[22][2] = 'naive'\n",
    "\n",
    "# Deleting bad values\n",
    "i = 0\n",
    "while i < len(word_info):\n",
    "    # Getting rid of rows that don't contain data\n",
    "    if (word_info[i][0] == '') or (word_info[i][1] == '') or (word_info[i][1] == ''):\n",
    "        del word_info[i]\n",
    "        del word_data[i]\n",
    "        i = i-1\n",
    "        \n",
    "    # Getting rid of words that aren't correctly input\n",
    "    if (len(word_info[i][2]) != 5):\n",
    "        del word_info[i]\n",
    "        del word_data[i]\n",
    "        i = i-1\n",
    "    i = i+1\n",
    "    \n",
    "# Converting integer values into ints\n",
    "for i in range(len(word_info)):\n",
    "    # Convert date into integer array [month,day,year]\n",
    "    string_list =  word_info[i][0].split('/')\n",
    "    int_list = [int(num) for num in string_list]\n",
    "    word_info[i][0] = int_list\n",
    "    # Convert contest number into integers\n",
    "    word_info[i][1] = int(word_info[i][1])\n",
    "    # Converting word data into integers\n",
    "    for j in range(len(word_data[0])):\n",
    "        word_data[i][j] = int(word_data[i][j])"
   ]
  },
  {
   "cell_type": "code",
   "execution_count": 49,
   "id": "de66772b",
   "metadata": {},
   "outputs": [],
   "source": [
    "# Each row of 'word_info' is organized as [DATE, CONTEST #, WORD]\n",
    "# For example, the first row is:  [[12, 31, 22], 560, 'manly']\n",
    "#                       \n",
    "# Each row of 'word_data' is organized as \n",
    "#         [# players, # hardmode, 1 try, 2 try, 3 try, 4 try, 5 try, 6 try, >6 try]\n",
    "#\n",
    "# "
   ]
  },
  {
   "cell_type": "code",
   "execution_count": null,
   "id": "4d0adf4e",
   "metadata": {},
   "outputs": [],
   "source": []
  },
  {
   "cell_type": "code",
   "execution_count": null,
   "id": "c6805c2f",
   "metadata": {},
   "outputs": [],
   "source": []
  }
 ],
 "metadata": {
  "kernelspec": {
   "display_name": "Python 3",
   "language": "python",
   "name": "python3"
  },
  "language_info": {
   "codemirror_mode": {
    "name": "ipython",
    "version": 3
   },
   "file_extension": ".py",
   "mimetype": "text/x-python",
   "name": "python",
   "nbconvert_exporter": "python",
   "pygments_lexer": "ipython3",
   "version": "3.8.8"
  }
 },
 "nbformat": 4,
 "nbformat_minor": 5
}
